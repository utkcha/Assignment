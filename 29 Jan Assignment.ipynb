{
 "cells": [
  {
   "cell_type": "markdown",
   "id": "1d489128-96dc-4a89-ab4f-8553d79d12c9",
   "metadata": {},
   "source": [
    "1. Who developed Python Programming Language?\n",
    "Ans- Guido van Rossum\n",
    "\n",
    "2. Which type of Programming does Python support?\n",
    "Ans- Python is an interpreted programming language, supporting object-oriented, structured, and functional programming.\n",
    "\n",
    "3. Is Python case sensitive when dealing with identifiers?\n",
    "Ans- Yes\n",
    "\n",
    "4. What is the correct extension of the Python file?\n",
    "Ans- .py, .pyi\n",
    "\n",
    "5. Is Python code compiled or interpreted?\n",
    "Ans- interpreted\n",
    "\n",
    "6. Name a few blocks of code used to define in Python language?\n",
    "Ans- a module, a function body, and a class definition\n",
    "\n",
    "7. State a character used to give single-line comments in Python?\n",
    "Ans- #\n",
    "\n",
    "8. Mention functions which can help us to find the version of python that we are currently working on? \n",
    "Ans- sys.version\n",
    "\n",
    "9. Python supports the creation of anonymous functions at runtime, using a construct called\n",
    "Ans- lambda\n",
    "\n",
    "10. What does pip stand for python?\n",
    "Ans- preffered installer program\n",
    "\n",
    "11. Mention a few built-in functions in python?\n",
    "Ans- print() function, type() function, input() function, max() function, len() function, abs() function\n",
    "\n",
    "12. What is the maximum possible length of an identifier in Python?\n",
    "Ans- 79 characters\n",
    "\n",
    "13. What are the benefits of using Python?\n",
    "Ans- data science, web development, finance and trading, basic game development, scientific and mathematical computing.\n",
    "\n",
    "14. How is memory managed in Python?\n",
    "Ans- Memory in Python is managed by Python private heap space. All Python objects and data structures are located in a private heap. This private heap is taken care of by Python Interpreter itself, and a programmer doesn't have access to this private heap.\n",
    "\n",
    "15. How to install Python on Windows and set path variables?\n",
    "Ans- In the section entitled User Variables, double-click on the entry that says Path. Another window will pop up showing a list of paths. Click the New button and paste the path to your Python executable there. Once that's inserted, select your newly added path and click the Move Up button until it's at the top.\n",
    "\n"
   ]
  }
 ],
 "metadata": {
  "kernelspec": {
   "display_name": "Python 3 (ipykernel)",
   "language": "python",
   "name": "python3"
  },
  "language_info": {
   "codemirror_mode": {
    "name": "ipython",
    "version": 3
   },
   "file_extension": ".py",
   "mimetype": "text/x-python",
   "name": "python",
   "nbconvert_exporter": "python",
   "pygments_lexer": "ipython3",
   "version": "3.10.8"
  }
 },
 "nbformat": 4,
 "nbformat_minor": 5
}

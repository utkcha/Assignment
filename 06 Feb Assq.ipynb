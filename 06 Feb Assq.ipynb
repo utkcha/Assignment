{
 "cells": [
  {
   "cell_type": "code",
   "execution_count": null,
   "id": "0e05b7f4-b414-4062-9877-3f499677ee06",
   "metadata": {},
   "outputs": [],
   "source": [
    "Q1. Create a function which will take a list as an argument and return the product of all the numbers  after creating a flat list. \n",
    "Use the below-given list as an argument for your function. \n",
    "list1 = [1,2,3,4, [44,55,66, True], False, (34,56,78,89,34), {1,2,3,3,2,1}, {1:34, \"key2\": [55, 67, 78, 89], 4: (45,  22, 61, 34)}, [56, 'data science'], 'Machine Learning'] \n",
    "Note: you must extract numeric keys and values of the dictionary also. \n",
    "Ans-\n",
    "def multiply_list_elements(list_arg):\n",
    "    flat_list = []\n",
    "    for elem in list_arg:\n",
    "        if type(elem) == list or type(elem) == tuple or type(elem) == set:\n",
    "            flat_list.extend([i for i in elem if type(i) == int or type(i) == float])\n",
    "        elif type(elem) == dict:\n",
    "            flat_list.extend([elem[k] for k in elem.keys() if type(elem[k]) == int or type(elem[k]) == float])\n",
    "        elif type(elem) == int or type(elem) == float:\n",
    "            flat_list.append(elem)\n",
    "    result = 1\n",
    "    for num in flat_list:\n",
    "        result *= num\n",
    "    return result\n",
    "\n",
    "\n",
    "list1 = [1,2,3,4, [44,55,66, True], False, (34,56,78,89,34), {1,2,3,3,2,1}, {1:34, \"key2\": [55, 67, 78, 89], 4: (45, 22, 61, 34)}, [56, 'data science'], 'Machine Learning']\n",
    "result = multiply_list_elements(list1)\n",
    "print(result)\n",
    "\n",
    "\n",
    "Q2. Write a python program for encrypting a message sent to you by your friend. The logic of encryption  should be such that, for a the output should be z. For b, the output should be y. For c, the output should  be x respectively. Also, the whitespace should be replaced with a dollar sign. Keep the punctuation  marks unchanged. \n",
    "Input Sentence: I want to become a Data Scientist. \n",
    "Encrypt the above input sentence using the program you just created. \n",
    "Note: Convert the given input sentence into lowercase before encrypting. The final output should be  lowercase. \n",
    "Ans-\n",
    "\n",
    "def encrypt_message(message):\n",
    "    message = message.lower()\n",
    "    encrypted_message = ''\n",
    "    for char in message:\n",
    "        if char.isalpha():\n",
    "            encrypted_char = chr(219-ord(char))\n",
    "            encrypted_message += encrypted_char\n",
    "        elif char.isspace():\n",
    "            encrypted_message += '$'\n",
    "        else: \n",
    "            encrypted_message += char\n",
    "    return encrypted_message\n",
    "\n",
    "message = 'I want to become a Data Scientist'\n",
    "encrypted_message = encrypt_message(message)\n",
    "print(encrypted_message)\n"
   ]
  }
 ],
 "metadata": {
  "kernelspec": {
   "display_name": "Python 3 (ipykernel)",
   "language": "python",
   "name": "python3"
  },
  "language_info": {
   "codemirror_mode": {
    "name": "ipython",
    "version": 3
   },
   "file_extension": ".py",
   "mimetype": "text/x-python",
   "name": "python",
   "nbconvert_exporter": "python",
   "pygments_lexer": "ipython3",
   "version": "3.10.8"
  }
 },
 "nbformat": 4,
 "nbformat_minor": 5
}

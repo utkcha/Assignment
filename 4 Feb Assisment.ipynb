{
 "cells": [
  {
   "cell_type": "markdown",
   "id": "699b0ded-6d40-4c1d-8e7c-b0762d85b8b6",
   "metadata": {},
   "source": [
    "Q1. Create a python program to sort the given list of tuples based on integer value using a  lambda function.  \n",
    "[('Sachin Tendulkar', 34357), ('Ricky Ponting', 27483), ('Jack Kallis', 25534), ('Virat Kohli', 24936)] \n",
    "Ans- \n",
    "list_of_tuples = [('Sachin Tendulkar', 34357), ('Ricky Ponting', 27483), ('Jack Kallis', 25534), ('Virat Kohli', 24936)]\n",
    "sorted_list = sorted(list_of_tuples, key = lambda x : x[1])\n",
    "print(sorted_list)\n",
    "\n",
    "Q2. Write a Python Program to find the squares of all the numbers in the given list of integers using  lambda and map functions. \n",
    "[1, 2, 3, 4, 5, 6, 7, 8, 9, 10] \n",
    "Ans-\n",
    "l5 = [1,2,3,4,5,6,7,8,9,10]\n",
    "squared_numbers = map(lambda x : x ** 2, l5)\n",
    "print(list(squared_numbers))\n",
    "\n",
    "Q3. Write a python program to convert the given list of integers into a tuple of strings. Use map and  lambda functions \n",
    "Given String: [1, 2, 3, 4, 5, 6, 7, 8, 9, 10] \n",
    "Expected output: ('1', '2', '3', '4', '5', '6', '7', '8', '9', '10') \n",
    "Ans-\n",
    "l5 = [1,2,3,4,5,6,7,8,9,10]\n",
    "result = tuple(map(lambda x : str(x), l5))\n",
    "print(result)\n",
    "\n",
    "Q4.  Write a python program using reduce function to compute the product of a list containing numbers  from 1 to 25.\n",
    "Ans- \n",
    "numbers = list(range(1,26))\n",
    "product = reduce(lambda x,y : x*y, numbers)\n",
    "print(product)\n",
    "\n",
    "Q5. Write a python program to filter the numbers in a given list that are divisible by 2 and 3 using the  filter function. \n",
    "[2, 3, 6, 9, 27, 60, 90, 120, 55, 46] \n",
    "Ans-\n",
    "l1 = [2, 3, 6, 9, 27, 60, 90, 120, 55, 46]\n",
    "list(filter(lambda x: x%2==0 and x%3==0, l1))\n",
    "\n",
    "Q6. Write a python program to find palindromes in the given list of strings using lambda and filter  function. \n",
    "['python', 'php', 'aba', 'radar', 'level'] \n",
    "Ans-\n"
   ]
  }
 ],
 "metadata": {
  "kernelspec": {
   "display_name": "Python 3 (ipykernel)",
   "language": "python",
   "name": "python3"
  },
  "language_info": {
   "codemirror_mode": {
    "name": "ipython",
    "version": 3
   },
   "file_extension": ".py",
   "mimetype": "text/x-python",
   "name": "python",
   "nbconvert_exporter": "python",
   "pygments_lexer": "ipython3",
   "version": "3.10.8"
  }
 },
 "nbformat": 4,
 "nbformat_minor": 5
}

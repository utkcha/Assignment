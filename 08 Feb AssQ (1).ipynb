{
 "cells": [
  {
   "cell_type": "markdown",
   "id": "2b888643-7c78-46a6-b874-bb223fafc193",
   "metadata": {},
   "source": [
    "Q1. What is Abstraction in OOps? Explain with an example.\n",
    "Ans- \n",
    "Abstraction is a fundamental concept in Object-Oriented Programming (OOPs) that allows us to hide the complexity of an object's internal details and focus on its essential features or behavior. In other words, it is a process of creating a simplified representation of something complex, where we only expose the necessary details to the user.\n",
    "An example of Abstraction in OOPs is a vehicle. A vehicle can be a car, a bike, or a truck, but we don't need to know the internal details of the vehicle to use it. We only need to know how to drive it, turn it, and stop it. We don't need to know how the engine works, how the gears shift, or how the brakes are applied. All these details are hidden from us, and we only interact with the essential features of the vehicle.\n",
    "\n",
    "Q2. Differentiate between Abstraction and Encapsulation. Explain with an example.\n",
    "Ans-\n",
    "Abstraction is a process of hiding the complexity of an object's internal details and exposing only the essential features or behavior to the user. Abstraction is achieved through abstract classes and interfaces. In contrast, Encapsulation is a process of binding the data and methods that operate on that data into a single unit or entity, known as a class.\n",
    "The key difference between Abstraction and Encapsulation is that Abstraction focuses on hiding the complexity of the object, while Encapsulation focuses on protecting the data and methods of the object.\n",
    "\n",
    "For example, consider a bank account. The bank account has a balance, and the user can perform operations such as deposit and withdrawal. Here, Encapsulation can be achieved by defining a class for the bank account that encapsulates the balance and the methods to operate on the balance, such as deposit and withdrawal. The class also ensures that the balance cannot be accessed or modified directly outside the class.\n",
    "\n",
    "Now, consider Abstraction. We can define an abstract class or interface for the bank account that defines the essential features of a bank account, such as deposit, withdrawal, and balance inquiry. The abstract class or interface hides the details of how the deposit or withdrawal is implemented, and the user only interacts with the essential features of the bank account.\n",
    "\n",
    "Q3. What is abc module in python? Why is it used?\n",
    "Ans-\n",
    "he abc module in Python stands for \"Abstract Base Classes,\" and it provides a way to define abstract classes and interfaces in Python. Abstract classes are classes that cannot be instantiated directly but can be used as a base class for other classes. Abstract classes can have abstract methods, which are methods that are defined but not implemented. Subclasses of the abstract class are required to implement these abstract methods. Interfaces are similar to abstract classes, but they only contain method signatures and no implementation.\n",
    "\n",
    "The abc module is used to enforce the design by contract principle in Python, which ensures that any subclass that inherits from an abstract class implements all the methods defined in the abstract class. It also provides a way to define and enforce interfaces in Python.\n",
    "\n",
    "Q4. How can we achieve data abstraction?\n",
    "Ans-\n",
    "Data Abstraction is a process of hiding the complexity of data and exposing only the essential features or behavior to the user. In Object-Oriented Programming (OOPs), data abstraction is achieved through two mechanisms: Abstract Classes and Interfaces.\n",
    "Abstract Classes are classes that cannot be instantiated, and they are used as a base class to derive other classes. Abstract classes may contain abstract methods, which are only defined but not implemented, and concrete methods, which are implemented. By defining abstract methods, we can abstract the data and behavior of the object and expose only the essential features to the user. Any class that inherits from the abstract class must implement all the abstract methods defined in the abstract class.\n",
    "Interfaces are similar to abstract classes, but they only contain method signatures and no implementation. An interface defines a set of methods that a class must implement. By using interfaces, we can abstract the data and behavior of the object and expose only the essential features to the user.\n",
    "\n",
    "Q5. Can we create an instance of an abstract class? Explain your answer.\n",
    "Ans-\n",
    "No, we cannot create an instance of an abstract class in Python. An abstract class is a class that contains one or more abstract methods, which are methods that are defined but not implemented. An abstract class cannot be instantiated directly because it is incomplete, and it is meant to be used as a base class for other classes.\n",
    "\n",
    "To create an instance of a class, we need to define and implement all the methods of the class, including any abstract methods defined in its parent abstract class. Therefore, we can only create an instance of a concrete class, which is a class that implements all the methods defined in its parent abstract class.\n",
    "\n",
    "\n"
   ]
  }
 ],
 "metadata": {
  "kernelspec": {
   "display_name": "Python 3 (ipykernel)",
   "language": "python",
   "name": "python3"
  },
  "language_info": {
   "codemirror_mode": {
    "name": "ipython",
    "version": 3
   },
   "file_extension": ".py",
   "mimetype": "text/x-python",
   "name": "python",
   "nbconvert_exporter": "python",
   "pygments_lexer": "ipython3",
   "version": "3.10.8"
  }
 },
 "nbformat": 4,
 "nbformat_minor": 5
}
